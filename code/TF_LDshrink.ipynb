{
 "cells": [
  {
   "cell_type": "code",
   "execution_count": 1,
   "metadata": {
    "collapsed": true
   },
   "outputs": [],
   "source": [
    "import tensorflow as tf\n",
    "import numpy as np\n",
    "import h5py as h5\n",
    "import os\n",
    "import re\n",
    "import pandas as pd"
   ]
  },
  {
   "cell_type": "code",
   "execution_count": 2,
   "metadata": {
    "collapsed": true
   },
   "outputs": [],
   "source": [
    "def tf_cov(H):\n",
    "    (n,p)=H.shape\n",
    "    X=tf.placeholder(dtype=tf.float32,shape=(n,p))\n",
    "    cd=tf.constant([1/(n-1.0)],dtype=tf.float32)\n",
    "    tfM=tf.expand_dims(tf.reduce_mean(X,0),0)\n",
    "    cX=X-tfM\n",
    "    =tf.matmul(cX,cX,transpose_a=True,transpose_b=False)\n",
    "    Z=Y*cd\n",
    "    with tf.Session() as session:\n",
    "        return(session.run(Z,feed_dict={X:H}))"
   ]
  },
  {
   "cell_type": "code",
   "execution_count": 3,
   "metadata": {
    "collapsed": true
   },
   "outputs": [],
   "source": [
    "\n",
    "    "
   ]
  },
  {
   "cell_type": "code",
   "execution_count": 4,
   "metadata": {},
   "outputs": [
    {
     "data": {
      "text/plain": [
       "array([[ 4.,  3.,  2.],\n",
       "       [ 7.,  9.,  6.],\n",
       "       [ 8.,  1.,  5.]], dtype=float32)"
      ]
     },
     "execution_count": 4,
     "metadata": {},
     "output_type": "execute_result"
    }
   ],
   "source": [
    "tx=np.array([[4,3,2],[7,9,6],[8,1,5]],dtype=np.float32)\n",
    "tx"
   ]
  },
  {
   "cell_type": "code",
   "execution_count": 57,
   "metadata": {},
   "outputs": [
    {
     "data": {
      "text/plain": [
       "array([[ 0.11189754,  0.0118662 , -0.1022286 ,  0.00867928],\n",
       "       [ 0.0118662 ,  0.08398195, -0.0109462 , -0.00109689],\n",
       "       [-0.1022286 , -0.0109462 ,  0.10440128, -0.00983445],\n",
       "       [ 0.00867928, -0.00109689, -0.00983445,  0.1502285 ]], dtype=float32)"
      ]
     },
     "execution_count": 57,
     "metadata": {},
     "output_type": "execute_result"
    }
   ],
   "source": [
    "tf_cov(H)[0:4,0:4]"
   ]
  },
  {
   "cell_type": "code",
   "execution_count": 7,
   "metadata": {},
   "outputs": [
    {
     "name": "stdout",
     "output_type": "stream",
     "text": [
      "1.4.0\n"
     ]
    }
   ],
   "source": [
    "print (tf.__version__)"
   ]
  },
  {
   "cell_type": "code",
   "execution_count": null,
   "metadata": {
    "collapsed": true
   },
   "outputs": [],
   "source": []
  },
  {
   "cell_type": "code",
   "execution_count": null,
   "metadata": {
    "collapsed": true
   },
   "outputs": [],
   "source": []
  },
  {
   "cell_type": "code",
   "execution_count": 20,
   "metadata": {},
   "outputs": [
    {
     "data": {
      "text/plain": [
       "TensorShape([Dimension(0)])"
      ]
     },
     "execution_count": 20,
     "metadata": {},
     "output_type": "execute_result"
    }
   ],
   "source": [
    "m=tf.placeholder(tf.float32,shape=0)\n",
    "Ne=tf.placeholder(tf.float32,shape=0)\n",
    "NNe=tf.multiply(tf.constant([4],shape=(0,),dtype=tf.float32),Ne)\n",
    "scalar = tf.convert_to_tensor(NNe, dtype=tf.float32, name=\"scalar\")\n",
    "shape = scalar.get_shape()\n",
    "shape"
   ]
  },
  {
   "cell_type": "code",
   "execution_count": null,
   "metadata": {
    "collapsed": true
   },
   "outputs": [],
   "source": [
    "import edward as ed\n",
    "import numpy as np\n",
    "import tensorflow as tf\n",
    "\n",
    "from edward.models import Normal"
   ]
  },
  {
   "cell_type": "code",
   "execution_count": null,
   "metadata": {
    "collapsed": true
   },
   "outputs": [],
   "source": []
  },
  {
   "cell_type": "code",
   "execution_count": 8,
   "metadata": {},
   "outputs": [
    {
     "data": {
      "text/plain": [
       "<HDF5 file \"scz2_seq_hapmap_haplo.h5\" (mode r)>"
      ]
     },
     "execution_count": 8,
     "metadata": {},
     "output_type": "execute_result"
    }
   ],
   "source": [
    "h5file = '/home/nwknoblauch/Desktop/scratch/polyg_scratch/h5/scz2_seq_hapmap_haplo.h5'\n",
    "hf = h5.File(h5file,mode='r')\n",
    "hf"
   ]
  },
  {
   "cell_type": "code",
   "execution_count": 63,
   "metadata": {},
   "outputs": [
    {
     "name": "stdout",
     "output_type": "stream",
     "text": [
      "(1006, 5000)\n"
     ]
    }
   ],
   "source": [
    "n_p=5000\n",
    "H=hf['dosage'][:,0:n_p]\n",
    "print(H.shape)\n",
    "(n,p)=H.shape\n",
    "mapd=hf['/SNPinfo/map'][0:p]\n",
    "m=1/(2*85)\n",
    "Ne=4*11490.672741/100\n",
    "theta=0.001029112\n",
    "cd=1/(n-1.0)"
   ]
  },
  {
   "cell_type": "code",
   "execution_count": 74,
   "metadata": {},
   "outputs": [
    {
     "name": "stdout",
     "output_type": "stream",
     "text": [
      "(5000, 5000)\n",
      "CPU times: user 14.9 s, sys: 40.7 s, total: 55.6 s\n",
      "Wall time: 55.1 s\n"
     ]
    }
   ],
   "source": [
    "%%time\n",
    "#m=tf.placeholder(tf.float32,shape=0)\n",
    "#Ne=tf.placeholder(tf.float32,shape=0)\n",
    "\n",
    "X=tf.placeholder(dtype=tf.float32,shape=(n,p))\n",
    "tfM=tf.expand_dims(tf.reduce_mean(X,0),0)\n",
    "cX=X-tfM\n",
    "Y=tf.matmul(cX,cX,transpose_a=True,transpose_b=False)\n",
    "Z=tf.scalar_mul(cd,Y)\n",
    "mapdata=tf.placeholder(tf.float32,shape=(p))\n",
    "mapdatb=tf.placeholder(tf.float32,shape=(p))\n",
    "distmat=tf.abs(tf.expand_dims(mapdata,0)-tf.expand_dims(mapdatb,1))\n",
    "rho=tf.scalar_mul(Ne,distmat)\n",
    "rho=tf.scalar_mul(m,-rho)\n",
    "shrinkage=tf.exp(rho)\n",
    "nshrinkage=shrinkage-tf.diag(tf.diag_part(shrinkage))+tf.eye(p)\n",
    "S=shrinkage*Z\n",
    "eyem=tf.scalar_mul((0.5*theta*(1.0-0.5*theta)),tf.eye(p))\n",
    "SigHat=tf.scalar_mul((1-theta)*(1-theta),S)+eyem\n",
    "mvars=1/tf.sqrt(tf.diag_part(SigHat))\n",
    "ret=SigHat*tf.expand_dims(mvars,1)*tf.expand_dims(mvars,0)\n",
    "Q,D=tf.self_adjoint_eig(ret)\n",
    "with tf.Session() as session:\n",
    "   [rQ,rD]=session.run([Q,D],feed_dict={X:H,\n",
    "                                 mapdata:mapd,mapdatb:mapd})\n",
    "print(rD.shape)"
   ]
  },
  {
   "cell_type": "code",
   "execution_count": 69,
   "metadata": {},
   "outputs": [
    {
     "data": {
      "text/plain": [
       "array([[ 1.        ,  0.119789  , -0.91377622,  0.03324893],\n",
       "       [ 0.119789  ,  1.00000012, -0.11470513, -0.00492616],\n",
       "       [-0.91377616, -0.11470512,  1.        , -0.04017282],\n",
       "       [ 0.03324893, -0.00492616, -0.04017282,  1.00000012]], dtype=float32)"
      ]
     },
     "execution_count": 69,
     "metadata": {},
     "output_type": "execute_result"
    }
   ],
   "source": [
    "rret[0:4,0:4]"
   ]
  },
  {
   "cell_type": "code",
   "execution_count": 66,
   "metadata": {},
   "outputs": [
    {
     "data": {
      "text/plain": [
       "array([[ 0.11218164,  0.0116507 , -0.09903204,  0.00431928],\n",
       "       [ 0.0116507 ,  0.08432347, -0.01077785, -0.00055482],\n",
       "       [-0.09903204, -0.01077785,  0.1047008 , -0.00504173],\n",
       "       [ 0.00431928, -0.00055482, -0.00504173,  0.15043375]], dtype=float32)"
      ]
     },
     "execution_count": 66,
     "metadata": {},
     "output_type": "execute_result"
    }
   ],
   "source": []
  },
  {
   "cell_type": "code",
   "execution_count": 59,
   "metadata": {},
   "outputs": [
    {
     "data": {
      "text/plain": [
       "array([[ 0.11189754,  0.0118662 , -0.1022286 ,  0.00867928],\n",
       "       [ 0.0118662 ,  0.08398195, -0.0109462 , -0.00109689],\n",
       "       [-0.1022286 , -0.0109462 ,  0.10440128, -0.00983445],\n",
       "       [ 0.00867928, -0.00109689, -0.00983445,  0.1502285 ]], dtype=float32)"
      ]
     },
     "execution_count": 59,
     "metadata": {},
     "output_type": "execute_result"
    }
   ],
   "source": []
  },
  {
   "cell_type": "code",
   "execution_count": 56,
   "metadata": {},
   "outputs": [
    {
     "data": {
      "text/plain": [
       "0.0009950248756218905"
      ]
     },
     "execution_count": 56,
     "metadata": {},
     "output_type": "execute_result"
    }
   ],
   "source": []
  },
  {
   "cell_type": "code",
   "execution_count": null,
   "metadata": {
    "collapsed": true
   },
   "outputs": [],
   "source": []
  }
 ],
 "metadata": {
  "kernelspec": {
   "display_name": "Python 3",
   "language": "python",
   "name": "python3"
  },
  "language_info": {
   "codemirror_mode": {
    "name": "ipython",
    "version": 3
   },
   "file_extension": ".py",
   "mimetype": "text/x-python",
   "name": "python",
   "nbconvert_exporter": "python",
   "pygments_lexer": "ipython3",
   "version": "3.5.2"
  }
 },
 "nbformat": 4,
 "nbformat_minor": 2
}
